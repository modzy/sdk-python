{
 "cells": [
  {
   "cell_type": "markdown",
   "metadata": {},
   "source": [
    "# First we will convert an Explainable SageMaker Image Classification Model"
   ]
  },
  {
   "cell_type": "code",
   "execution_count": 1,
   "metadata": {},
   "outputs": [],
   "source": [
    "blob_storage_provider = \"S3\"\n",
    "blob_storage_container = \"modzy-engineering-tests\"\n",
    "resources_key = \"ds/model-converter/sagemaker/image-classification/resources.tar.gz\"\n",
    "weights_key = \"ds/model-converter/sagemaker/image-classification/weights.tar.gz\""
   ]
  },
  {
   "cell_type": "code",
   "execution_count": 2,
   "metadata": {
    "pycharm": {
     "name": "#%%\n"
    }
   },
   "outputs": [],
   "source": [
    "from modzy.converter.model_converter import ModelConverter\n",
    "from modzy.client import ApiClient\n",
    "import os\n",
    "\n",
    "# To get started, store your Modzy API key as an environment variable `MODZY_API_KEY`.\n",
    "# Then, create a Modzy API client to interact with the integration envrionment\n",
    "modzy_api_key = os.getenv(\"MODZY_QA_API_KEY\")\n",
    "modzy_instance_base_url = \"https://integration.modzy.engineering/api\"\n",
    "modzy_api_client = ApiClient(api_key=modzy_api_key, base_url=modzy_instance_base_url)\n",
    "\n",
    "# Instantiate a Model Converter client with access to the Modzy integration environment\n",
    "model_converter = ModelConverter(modzy_api_client)"
   ]
  },
  {
   "cell_type": "code",
   "execution_count": 3,
   "metadata": {
    "pycharm": {
     "name": "#%%\n"
    }
   },
   "outputs": [
    {
     "name": "stdout",
     "output_type": "stream",
     "text": [
      "The model details page for your new model can be found here: https://integration.modzy.engineering/models/106d50ca0e-modzy-image-classification/0.0.1\n"
     ]
    }
   ],
   "source": [
    "# Now, provide the Model converter with information about your stored model assets and the credentials required\n",
    "# to access them. The Model converter will do the rest of the work.\n",
    "\n",
    "source_platform = \"sagemaker\"\n",
    "model_type = \"image-classification\"\n",
    "\n",
    "_, converter_output = model_converter.run(\n",
    "        sp_access_key_id=os.getenv(\"SP_ACCESS_KEY_ID\"),\n",
    "        sp_secret_access_key=os.getenv(\"SP_SECRET_ACCESS_KEY\"),\n",
    "        blobstore_provider=blob_storage_provider,\n",
    "        blobstore_container=blob_storage_container,\n",
    "        weights_path=weights_key,\n",
    "        resources_path=resources_key,\n",
    "        platform=source_platform,\n",
    "        model_type=model_type,\n",
    ")\n",
    "\n",
    "print(f\"The model details page for your new model can be found here: {converter_output['modelURL']}\")\n",
    "new_model_id = converter_output[\"modelId\"]\n",
    "new_model_version = converter_output[\"modelVersion\"]"
   ]
  },
  {
   "cell_type": "code",
   "execution_count": 4,
   "metadata": {
    "pycharm": {
     "name": "#%%\n"
    }
   },
   "outputs": [],
   "source": [
    "# Delegate a single processing to serve your new model\n",
    "modzy_api_client.models.update_processing_engines(new_model_id, new_model_version, min_engines=1, max_engines=1)"
   ]
  },
  {
   "cell_type": "code",
   "execution_count": null,
   "metadata": {
    "pycharm": {
     "name": "#%%\n"
    }
   },
   "outputs": [],
   "source": [
    "# Send an inference job to run against your new model with explainability!\n",
    "input_source = {\n",
    "    \"0001\": {\n",
    "        f\"image\": {\n",
    "            \"bucket\": blob_storage_container,\n",
    "            \"key\": f\"/ds/model-converter/{source_platform}/{model_type}/test_input\"\n",
    "        }\n",
    "    }\n",
    "}\n",
    "\n",
    "print(f\"Sending job to model {new_model_id} {new_model_version}\")\n",
    "job = modzy_api_client.jobs.submit_aws_s3(\n",
    "    new_model_id, new_model_version, input_source,\n",
    "    os.getenv(\"SP_ACCESS_KEY_ID\"), os.getenv(\"SP_SECRET_ACCESS_KEY\"),\n",
    "    region=\"us-east-1\", explain=True\n",
    ")\n",
    "\n",
    "modzy_api_client.jobs.block_until_complete(job, timeout=None)\n",
    "print(\"Job Completed!\")"
   ]
  },
  {
   "cell_type": "markdown",
   "metadata": {},
   "source": [
    "# Next, we will convert an MLflow model"
   ]
  },
  {
   "cell_type": "code",
   "execution_count": null,
   "metadata": {
    "pycharm": {
     "name": "#%%\n"
    }
   },
   "outputs": [],
   "source": [
    "from modzy.converter.mlflow import upload_mlflow_model\n",
    "\n",
    "# Raw output MLFlow Model Gets uploaded to the user's S3 Bucket\n",
    "# upload_mlflow_model()\n",
    "\n",
    "# Now we repeat the process with an MLFlow model\n",
    "source_platform = \"mlflow\"\n",
    "model_type = \"tabular\"\n",
    "resources_key = \"ds/model-converter/mlflow/tabular/resources.tar.gz\"\n",
    "weights_key = \"ds/model-converter/mlflow/tabular/model.tar.gz\"\n",
    "\n",
    "\n",
    "_, converter_output = model_converter.run(\n",
    "        sp_access_key_id=os.getenv(\"SP_ACCESS_KEY_ID\"),\n",
    "        sp_secret_access_key=os.getenv(\"SP_SECRET_ACCESS_KEY\"),\n",
    "        blobstore_provider=blob_storage_provider,\n",
    "        blobstore_container=blob_storage_container,\n",
    "        weights_path=weights_key,\n",
    "        resources_path=resources_key,\n",
    "        platform=source_platform,\n",
    "        model_type=model_type,\n",
    ")\n",
    "\n",
    "print(f\"The model details page for your new model can be found here: {converter_output['modelURL']}\")\n",
    "new_model_id = converter_output[\"modelId\"]\n",
    "new_model_version = converter_output[\"modelVersion\"]"
   ]
  },
  {
   "cell_type": "code",
   "execution_count": null,
   "metadata": {
    "pycharm": {
     "name": "#%%\n"
    }
   },
   "outputs": [],
   "source": [
    "# Delegate a single processing to serve your new model\n",
    "modzy_api_client.models.update_processing_engines(\"106d50ca0e\", \"0.0.1\", min_engines=0, max_engines=1)"
   ]
  },
  {
   "cell_type": "code",
   "execution_count": null,
   "metadata": {},
   "outputs": [],
   "source": []
  }
 ],
 "metadata": {
  "kernelspec": {
   "display_name": "Python 3",
   "language": "python",
   "name": "python3"
  },
  "language_info": {
   "codemirror_mode": {
    "name": "ipython",
    "version": 3
   },
   "file_extension": ".py",
   "mimetype": "text/x-python",
   "name": "python",
   "nbconvert_exporter": "python",
   "pygments_lexer": "ipython3",
   "version": "3.9.1"
  }
 },
 "nbformat": 4,
 "nbformat_minor": 1
}